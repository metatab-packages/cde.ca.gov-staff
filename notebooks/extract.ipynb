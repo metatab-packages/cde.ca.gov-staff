{
 "cells": [
  {
   "cell_type": "code",
   "execution_count": 1,
   "metadata": {},
   "outputs": [],
   "source": [
    "import seaborn as sns\n",
    "import metapack as mp\n",
    "import pandas as pd\n",
    "import numpy as np\n",
    "import matplotlib.pyplot as plt\n",
    "from IPython.display import display \n",
    "\n",
    "%matplotlib inline\n",
    "sns.set_context('notebook')\n",
    "mp.jupyter.init()\n"
   ]
  },
  {
   "cell_type": "code",
   "execution_count": 2,
   "metadata": {},
   "outputs": [
    {
     "data": {
      "text/html": [
       "<h1>Staff Demographic Data</h1>\n",
       "<p><code>cde.ca.gov-staff-1.1.1</code> Last Update: 2022-06-10T18:24:21</p>\n",
       "<p><em>Data files pertaining to staff demographics that can be downloaded to your computer.</em></p>\n",
       "<h2>License</h2>\n",
       "<p>The upstream data, from the California Department of Education, does not explicitly reference a license, so we assume it is in the public domain.</p>\n",
       "<h2>Documentation Links</h2>\n",
       "<ul>\n",
       "<li><a href=\"https://www.cde.ca.gov/ds/ad/documents/StaffData-EntityRelationshipDiagram.pdf\">StaffData-EntityRelationshipDiagram</a> </li>\n",
       "<li><a href=\"https://www.cde.ca.gov/ds/ad/fsstaffdemo15.asp\">Staff Demographics 2015-16 to Current</a> File structure for the staff demographics record, which includes demographic and full-time equivalent (FTE) data for K-12 public education certificated teachers, administrators, and pupil services personnel reported as employed on Information Day.</li>\n",
       "<li><a href=\"https://www.cde.ca.gov/ds/ad/fsstaffcred12.asp\">Staff Credentials 2012–13 to Current</a> File structure for staff credential data, including associated authorizations, for staff employed on Information Day.</li>\n",
       "<li><a href=\"https://www.cde.ca.gov/ds/ad/fsstaffschoolfte.asp\">Staff School FTE 2012–13 to Current</a> This table contains the structure for the staff school FTE record.</li>\n",
       "</ul>\n",
       "<h2>Contacts</h2>\n",
       "<ul>\n",
       "<li><strong>Wrangler</strong> <a href=\"mailto:eric@civicknowledge.com\">Eric Busboom</a>, <a href=\"http://civicknowledge.com\">Civic Knowledge</a></li>\n",
       "</ul>\n",
       "<h2>References</h2>\n",
       "<p><ul><li> <strong><a href=\"https://www3.cde.ca.gov/demo-downloads/staffclass/StaffCred12.txt#target_format=tsv\">StaffCred12</a></strong>. </li><li> <strong><a href=\"https://www3.cde.ca.gov/demo-downloads/staffclass/StaffCred13.txt#target_format=tsv\">StaffCred13</a></strong>. </li><li> <strong><a href=\"https://www3.cde.ca.gov/demo-downloads/staffclass/StaffCred14.txt#target_format=tsv\">StaffCred14</a></strong>. </li><li> <strong><a href=\"https://www3.cde.ca.gov/demo-downloads/staffclass/StaffCred15.txt#target_format=tsv\">StaffCred15</a></strong>. </li><li> <strong><a href=\"https://www3.cde.ca.gov/demo-downloads/staffclass/StaffCred16.txt#target_format=tsv\">StaffCred16</a></strong>. </li><li> <strong><a href=\"https://www3.cde.ca.gov/demo-downloads/staffclass/StaffCred17.txt#target_format=tsv\">StaffCred17</a></strong>. </li><li> <strong><a href=\"https://www3.cde.ca.gov/demo-downloads/staffclass/StaffCred18.txt#target_format=tsv\">StaffCred18</a></strong>. </li><li> <strong><a href=\"https://www3.cde.ca.gov/demo-downloads/staffclass/StaffDemo12.txt#target_format=tsv\">StaffDemo12</a></strong>. </li><li> <strong><a href=\"https://www3.cde.ca.gov/demo-downloads/staffclass/StaffDemo13.txt#target_format=tsv\">StaffDemo13</a></strong>. </li><li> <strong><a href=\"https://www3.cde.ca.gov/demo-downloads/staffclass/StaffDemo14.txt#target_format=tsv\">StaffDemo14</a></strong>. </li><li> <strong><a href=\"https://www3.cde.ca.gov/demo-downloads/staffclass/StaffDemo15.txt#target_format=tsv\">StaffDemo15</a></strong>. </li><li> <strong><a href=\"https://www3.cde.ca.gov/demo-downloads/staffclass/StaffDemo16.txt#target_format=tsv\">StaffDemo16</a></strong>. </li><li> <strong><a href=\"https://www3.cde.ca.gov/demo-downloads/staffclass/StaffDemo17.txt#target_format=tsv\">StaffDemo17</a></strong>. </li><li> <strong><a href=\"https://www3.cde.ca.gov/demo-downloads/staffclass/StaffDemo18.txt#target_format=tsv\">StaffDemo18</a></strong>. </li><li> <strong><a href=\"https://www3.cde.ca.gov/demo-downloads/staffclass/StaffSchoolFTE12.txt#target_format=tsv&encoding=latin1\">StaffSchoolFTE12</a></strong>. </li><li> <strong><a href=\"https://www3.cde.ca.gov/demo-downloads/staffclass/StaffSchoolFTE13.txt#target_format=tsv&encoding=latin1\">StaffSchoolFTE13</a></strong>. </li><li> <strong><a href=\"https://www3.cde.ca.gov/demo-downloads/staffclass/StaffSchoolFTE14.txt#target_format=tsv&encoding=latin1\">StaffSchoolFTE14</a></strong>. </li><li> <strong><a href=\"https://www3.cde.ca.gov/demo-downloads/staffclass/StaffSchoolFTE15.txt#target_format=tsv&encoding=latin1\">StaffSchoolFTE15</a></strong>. </li><li> <strong><a href=\"https://www3.cde.ca.gov/demo-downloads/staffclass/StaffSchoolFTE16.txt#target_format=tsv&encoding=latin1\">StaffSchoolFTE16</a></strong>. </li><li> <strong><a href=\"https://www3.cde.ca.gov/demo-downloads/staffclass/StaffSchoolFTE17.txt#target_format=tsv&encoding=latin1\">StaffSchoolFTE17</a></strong>. </li><li> <strong><a href=\"https://www3.cde.ca.gov/demo-downloads/staffclass/StaffSchoolFTE18.txt#target_format=tsv&encoding=latin1\">StaffSchoolFTE18</a></strong>. </li><ul></p>"
      ],
      "text/plain": [
       "# Staff Demographic Data\n",
       "`cde.ca.gov-staff-1.1.1` Last Update: 2022-06-10T18:24:21\n",
       "\n",
       "_Data files pertaining to staff demographics that can be downloaded to your computer._\n",
       "\n",
       "\n",
       "\n",
       "## License\n",
       "\n",
       "The upstream data, from the California Department of Education, does not explicitly reference a license, so we assume it is in the public domain.\n",
       "## Documentation Links\n",
       "\n",
       "* [StaffData-EntityRelationshipDiagram](https://www.cde.ca.gov/ds/ad/documents/StaffData-EntityRelationshipDiagram.pdf) \n",
       "* [Staff Demographics 2015-16 to Current](https://www.cde.ca.gov/ds/ad/fsstaffdemo15.asp) File structure for the staff demographics record, which includes demographic and full-time equivalent (FTE) data for K-12 public education certificated teachers, administrators, and pupil services personnel reported as employed on Information Day.\n",
       "* [Staff Credentials 2012–13 to Current](https://www.cde.ca.gov/ds/ad/fsstaffcred12.asp) File structure for staff credential data, including associated authorizations, for staff employed on Information Day.\n",
       "* [Staff School FTE 2012–13 to Current](https://www.cde.ca.gov/ds/ad/fsstaffschoolfte.asp) This table contains the structure for the staff school FTE record.\n",
       "\n",
       " \n",
       "\n",
       "## Contacts\n",
       "\n",
       "* **Wrangler** [Eric Busboom](mailto:eric@civicknowledge.com), [Civic Knowledge](http://civicknowledge.com)\n",
       "\n",
       "\n",
       "## References\n",
       "<ul><li> <strong><a href=\"https://www3.cde.ca.gov/demo-downloads/staffclass/StaffCred12.txt#target_format=tsv\">StaffCred12</a></strong>. </li><li> <strong><a href=\"https://www3.cde.ca.gov/demo-downloads/staffclass/StaffCred13.txt#target_format=tsv\">StaffCred13</a></strong>. </li><li> <strong><a href=\"https://www3.cde.ca.gov/demo-downloads/staffclass/StaffCred14.txt#target_format=tsv\">StaffCred14</a></strong>. </li><li> <strong><a href=\"https://www3.cde.ca.gov/demo-downloads/staffclass/StaffCred15.txt#target_format=tsv\">StaffCred15</a></strong>. </li><li> <strong><a href=\"https://www3.cde.ca.gov/demo-downloads/staffclass/StaffCred16.txt#target_format=tsv\">StaffCred16</a></strong>. </li><li> <strong><a href=\"https://www3.cde.ca.gov/demo-downloads/staffclass/StaffCred17.txt#target_format=tsv\">StaffCred17</a></strong>. </li><li> <strong><a href=\"https://www3.cde.ca.gov/demo-downloads/staffclass/StaffCred18.txt#target_format=tsv\">StaffCred18</a></strong>. </li><li> <strong><a href=\"https://www3.cde.ca.gov/demo-downloads/staffclass/StaffDemo12.txt#target_format=tsv\">StaffDemo12</a></strong>. </li><li> <strong><a href=\"https://www3.cde.ca.gov/demo-downloads/staffclass/StaffDemo13.txt#target_format=tsv\">StaffDemo13</a></strong>. </li><li> <strong><a href=\"https://www3.cde.ca.gov/demo-downloads/staffclass/StaffDemo14.txt#target_format=tsv\">StaffDemo14</a></strong>. </li><li> <strong><a href=\"https://www3.cde.ca.gov/demo-downloads/staffclass/StaffDemo15.txt#target_format=tsv\">StaffDemo15</a></strong>. </li><li> <strong><a href=\"https://www3.cde.ca.gov/demo-downloads/staffclass/StaffDemo16.txt#target_format=tsv\">StaffDemo16</a></strong>. </li><li> <strong><a href=\"https://www3.cde.ca.gov/demo-downloads/staffclass/StaffDemo17.txt#target_format=tsv\">StaffDemo17</a></strong>. </li><li> <strong><a href=\"https://www3.cde.ca.gov/demo-downloads/staffclass/StaffDemo18.txt#target_format=tsv\">StaffDemo18</a></strong>. </li><li> <strong><a href=\"https://www3.cde.ca.gov/demo-downloads/staffclass/StaffSchoolFTE12.txt#target_format=tsv&encoding=latin1\">StaffSchoolFTE12</a></strong>. </li><li> <strong><a href=\"https://www3.cde.ca.gov/demo-downloads/staffclass/StaffSchoolFTE13.txt#target_format=tsv&encoding=latin1\">StaffSchoolFTE13</a></strong>. </li><li> <strong><a href=\"https://www3.cde.ca.gov/demo-downloads/staffclass/StaffSchoolFTE14.txt#target_format=tsv&encoding=latin1\">StaffSchoolFTE14</a></strong>. </li><li> <strong><a href=\"https://www3.cde.ca.gov/demo-downloads/staffclass/StaffSchoolFTE15.txt#target_format=tsv&encoding=latin1\">StaffSchoolFTE15</a></strong>. </li><li> <strong><a href=\"https://www3.cde.ca.gov/demo-downloads/staffclass/StaffSchoolFTE16.txt#target_format=tsv&encoding=latin1\">StaffSchoolFTE16</a></strong>. </li><li> <strong><a href=\"https://www3.cde.ca.gov/demo-downloads/staffclass/StaffSchoolFTE17.txt#target_format=tsv&encoding=latin1\">StaffSchoolFTE17</a></strong>. </li><li> <strong><a href=\"https://www3.cde.ca.gov/demo-downloads/staffclass/StaffSchoolFTE18.txt#target_format=tsv&encoding=latin1\">StaffSchoolFTE18</a></strong>. </li><ul>\n"
      ]
     },
     "execution_count": 2,
     "metadata": {},
     "output_type": "execute_result"
    }
   ],
   "source": [
    "#pkg = mp.jupyter.open_package()\n",
    "pkg = mp.jupyter.open_source_package()\n",
    "pkg"
   ]
  },
  {
   "cell_type": "code",
   "execution_count": 3,
   "metadata": {},
   "outputs": [],
   "source": [
    "import re\n",
    "from collections import defaultdict\n",
    "p = re.compile(r'^([^\\d]+)(\\d+)$')\n",
    "frames = defaultdict(list)\n",
    "\n",
    "\n",
    "for r in pkg.references():\n",
    "    b, y = p.match(r.name).groups()\n",
    "    df = r.dataframe(sep='\\t')\n",
    "    if 'age' in df.columns:\n",
    "        df = df.rename(columns={'age':'Age'})\n",
    "    frames[b].append(df)\n",
    "\n",
    "\n"
   ]
  },
  {
   "cell_type": "code",
   "execution_count": 4,
   "metadata": {},
   "outputs": [
    {
     "data": {
      "text/plain": [
       "dict_keys(['StaffCred', 'StaffDemo', 'StaffSchoolFTE'])"
      ]
     },
     "execution_count": 4,
     "metadata": {},
     "output_type": "execute_result"
    }
   ],
   "source": [
    "frames.keys()"
   ]
  },
  {
   "cell_type": "code",
   "execution_count": 5,
   "metadata": {},
   "outputs": [],
   "source": [
    "staff_cred = pd.concat(frames['StaffCred'])\n",
    "\n",
    "staff_cred['AcademicYear'] = pd.to_numeric(staff_cred.AcademicYear, errors='coerce')\n",
    "staff_cred['RecID'] = pd.to_numeric(staff_cred.RecID, errors='coerce')\n",
    "staff_cred['CredentialType'] = pd.to_numeric(staff_cred.CredentialType, errors='coerce')\n",
    "staff_cred['AuthorizationType'] = pd.to_numeric(staff_cred.AuthorizationType, errors='coerce')\n",
    "staff_cred['FileCreated'] = pd.to_datetime(staff_cred.FileCreated, errors='coerce')"
   ]
  },
  {
   "cell_type": "code",
   "execution_count": 6,
   "metadata": {},
   "outputs": [],
   "source": [
    "staff_demo = pd.concat(frames['StaffDemo'])\n",
    "staff_demo['Age'] = pd.to_numeric(staff_demo.Age)\n",
    "staff_demo['YearsTeaching'] = pd.to_numeric(staff_demo.YearsTeaching)\n",
    "staff_demo['YearsInDistrict'] = pd.to_numeric(staff_demo.YearsInDistrict)\n",
    "staff_demo['FTE Teaching'] = pd.to_numeric(staff_demo['FTE Teaching'])\n",
    "staff_demo['FTE administrative'] = pd.to_numeric(staff_demo['FTE administrative'])\n",
    "staff_demo['FTE PupilServices'] = pd.to_numeric(staff_demo['FTE PupilServices'])"
   ]
  },
  {
   "cell_type": "code",
   "execution_count": 7,
   "metadata": {},
   "outputs": [],
   "source": [
    "staff_fte  = pd.concat(frames['StaffSchoolFTE'])\n",
    "staff_fte['FTE'] = pd.to_numeric(staff_fte.FTE)"
   ]
  }
 ],
 "metadata": {
  "kernelspec": {
   "display_name": "Python 3",
   "language": "python",
   "name": "python3"
  },
  "language_info": {
   "codemirror_mode": {
    "name": "ipython",
    "version": 3
   },
   "file_extension": ".py",
   "mimetype": "text/x-python",
   "name": "python",
   "nbconvert_exporter": "python",
   "pygments_lexer": "ipython3",
   "version": "3.7.6"
  }
 },
 "nbformat": 4,
 "nbformat_minor": 4
}
